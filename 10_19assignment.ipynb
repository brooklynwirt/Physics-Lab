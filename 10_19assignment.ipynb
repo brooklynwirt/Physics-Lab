{
  "nbformat": 4,
  "nbformat_minor": 0,
  "metadata": {
    "colab": {
      "provenance": [],
      "authorship_tag": "ABX9TyPcTguPLkrARUfaJ4PLzJ9B",
      "include_colab_link": true
    },
    "kernelspec": {
      "name": "python3",
      "display_name": "Python 3"
    },
    "language_info": {
      "name": "python"
    }
  },
  "cells": [
    {
      "cell_type": "markdown",
      "metadata": {
        "id": "view-in-github",
        "colab_type": "text"
      },
      "source": [
        "<a href=\"https://colab.research.google.com/github/brooklynwirt/Physics-Lab/blob/main/10_19assignment.ipynb\" target=\"_parent\"><img src=\"https://colab.research.google.com/assets/colab-badge.svg\" alt=\"Open In Colab\"/></a>"
      ]
    },
    {
      "cell_type": "code",
      "execution_count": null,
      "metadata": {
        "colab": {
          "base_uri": "https://localhost:8080/"
        },
        "id": "QZmLgsLIAlaF",
        "outputId": "4784e706-9294-4afa-d3b3-1ab32e430749"
      },
      "outputs": [
        {
          "output_type": "stream",
          "name": "stdout",
          "text": [
            "c = 205.2\n"
          ]
        }
      ],
      "source": [
        "import numpy as np\n",
        "\n",
        "def fred(a,b):\n",
        "  c = (a+b)*12\n",
        "  return c\n",
        "\n",
        "a = 13.2\n",
        "b = 3.9\n",
        "c = fred(a,b)\n",
        "\n",
        "print(\"c =\", c)"
      ]
    },
    {
      "cell_type": "code",
      "source": [
        "import numpy as np\n",
        "\n",
        "def rule3(dA, dB):\n",
        "  dQ = np.sqrt(dA**2+dB**2)\n",
        "  return dQ\n",
        "\n",
        "dA = 1.4\n",
        "dB = 2.1\n",
        "\n",
        "dQ = rule3(dA, dB)\n",
        "\n",
        "print(\"dQ =\", dQ)"
      ],
      "metadata": {
        "colab": {
          "base_uri": "https://localhost:8080/"
        },
        "id": "kQ6fqo_mCwXb",
        "outputId": "fff95e29-6c30-4eb9-9410-d7d728c95971"
      },
      "execution_count": null,
      "outputs": [
        {
          "output_type": "stream",
          "name": "stdout",
          "text": [
            "dQ = 2.5238858928247927\n"
          ]
        }
      ]
    },
    {
      "cell_type": "code",
      "source": [
        "x = np.array([1, 1.1, 1.2, 0.9, 0.85])\n",
        "y = x*3\n",
        "print(y)\n",
        "\n",
        "ysq = y**2\n",
        "print(ysq)\n",
        "\n",
        "err_x = np.std(x)/np.sqrt(5)\n",
        "avgx = np.average(x)\n",
        "print(avgx, err_x)"
      ],
      "metadata": {
        "colab": {
          "base_uri": "https://localhost:8080/"
        },
        "id": "MLvXCcw8D0J8",
        "outputId": "64cc345d-7ca8-4330-decc-4e79f9574e1d"
      },
      "execution_count": null,
      "outputs": [
        {
          "output_type": "stream",
          "name": "stdout",
          "text": [
            "[3.   3.3  3.6  2.7  2.55]\n",
            "[ 9.     10.89   12.96    7.29    6.5025]\n",
            "1.01 0.05727128425310541\n"
          ]
        }
      ]
    },
    {
      "cell_type": "markdown",
      "source": [
        "$\\delta F = g\\delta m$\n"
      ],
      "metadata": {
        "id": "mT_sVpGAIFRC"
      }
    },
    {
      "cell_type": "markdown",
      "source": [
        "$\\frac{\\delta A}{A}$"
      ],
      "metadata": {
        "id": "O8Dxc_6CIg8l"
      }
    },
    {
      "cell_type": "markdown",
      "source": [
        "Rule 1: Q = cA"
      ],
      "metadata": {
        "id": "0MMYCqejIrje"
      }
    },
    {
      "cell_type": "code",
      "source": [
        "import numpy as np\n",
        "\n",
        "def rule1(dA, c):\n",
        "  dQ = c*dA\n",
        "  return dQ\n",
        "\n",
        "dA = 3\n",
        "c = 2\n",
        "\n",
        "dQ = rule1(dA, c)\n",
        "\n",
        "print(dQ)"
      ],
      "metadata": {
        "colab": {
          "base_uri": "https://localhost:8080/"
        },
        "id": "_XWuwZKIIy5q",
        "outputId": "4a5a1aaf-cef3-49ec-a8cf-da52d1410b91"
      },
      "execution_count": null,
      "outputs": [
        {
          "output_type": "stream",
          "name": "stdout",
          "text": [
            "6\n"
          ]
        }
      ]
    },
    {
      "cell_type": "markdown",
      "source": [
        "Rule 2: Q = cA^m"
      ],
      "metadata": {
        "id": "u7QSB4PgJ2zB"
      }
    },
    {
      "cell_type": "code",
      "source": [
        "import numpy as np\n",
        "\n",
        "def rule2 (c, m, A, dA):\n",
        "  dQ = (c*m*(A**(m-1)*dA))\n",
        "  return dQ\n",
        "\n",
        "c = 2\n",
        "m = 3\n",
        "A = 2.1\n",
        "dA = .01\n",
        "\n",
        "dQ = rule2(c,m,A,dA)\n",
        "\n",
        "print(dQ)\n"
      ],
      "metadata": {
        "colab": {
          "base_uri": "https://localhost:8080/"
        },
        "id": "-vG906tzJ2Af",
        "outputId": "c9bcf5ef-4ec3-432a-96c1-e986aeded695"
      },
      "execution_count": null,
      "outputs": [
        {
          "output_type": "stream",
          "name": "stdout",
          "text": [
            "0.2646\n"
          ]
        }
      ]
    },
    {
      "cell_type": "markdown",
      "source": [
        "Rule 3: Q = A + B"
      ],
      "metadata": {
        "id": "SfFOL_I1Loay"
      }
    },
    {
      "cell_type": "code",
      "source": [
        "import numpy as np\n",
        "\n",
        "def rule3(dA, dB):\n",
        "  dQ = np.sqrt((dA**2)+ (dB**2))\n",
        "  return dQ\n",
        "\n",
        "dA = .2\n",
        "dB = .3\n",
        "\n",
        "dQ = rule3(dA, dB)\n",
        "\n",
        "print(dQ)"
      ],
      "metadata": {
        "colab": {
          "base_uri": "https://localhost:8080/"
        },
        "id": "mmzHj9HgLsPh",
        "outputId": "ba1761da-7261-4017-83ea-68c66c69c0a2"
      },
      "execution_count": null,
      "outputs": [
        {
          "output_type": "stream",
          "name": "stdout",
          "text": [
            "0.36055512754639896\n"
          ]
        }
      ]
    },
    {
      "cell_type": "markdown",
      "source": [
        "Rule 4: cA^mB^n"
      ],
      "metadata": {
        "id": "hU-FgUquMn9S"
      }
    },
    {
      "cell_type": "markdown",
      "source": [
        "import numpy as np\n",
        "\n",
        "def rule4(Q, m, dA, A, n, dB, B):\n",
        "  dQ = Q*(np.sqrt((((m*dA)/A)**2)+(((n*dB)/B)**2)))\n",
        "  return dQ\n",
        "\n",
        "Q = 3.53\n",
        "m = 1\n",
        "dA = 0.005\n",
        "A = 1.588\n",
        "n = -0.5\n",
        "dB = 0.001\n",
        "B = .989\n",
        "\n",
        "dQ = rule4(Q, m, dA, A, n, dB, B)\n",
        "\n",
        "print(dQ)\n"
      ],
      "metadata": {
        "id": "8qNPKOfQMsbX"
      }
    },
    {
      "cell_type": "code",
      "source": [
        "import numpy as np\n",
        "\n",
        "def rule4(Q, m, dA, A, n, dB, B):\n",
        "  dQ = Q*(np.sqrt((((m*dA)/A)**2)+(((n*dB)/B)**2)))\n",
        "  return dQ\n",
        "\n",
        "Q = 3.53\n",
        "m = 1\n",
        "dA = 0.00021\n",
        "A = 1.588\n",
        "n = -0.5\n",
        "dB = 0.001\n",
        "B = .989\n",
        "\n",
        "dQ = rule4(Q, m, dA, A, n, dB, B)\n",
        "\n",
        "print(dQ)\n"
      ],
      "metadata": {
        "colab": {
          "base_uri": "https://localhost:8080/"
        },
        "id": "HmhGXcntTLZp",
        "outputId": "8aa0d054-9172-456b-f05b-e8f782c10c7e"
      },
      "execution_count": null,
      "outputs": [
        {
          "output_type": "stream",
          "name": "stdout",
          "text": [
            "0.0018446740991998165\n"
          ]
        }
      ]
    },
    {
      "cell_type": "markdown",
      "source": [
        "This is the same as my value from my lab report"
      ],
      "metadata": {
        "id": "CEzXf4X7w0E5"
      }
    },
    {
      "cell_type": "markdown",
      "source": [
        "Average and Standard Deviation"
      ],
      "metadata": {
        "id": "9CN2Ei7pPDS6"
      }
    },
    {
      "cell_type": "code",
      "source": [
        "x = np.array([1.1, 1.3, 1.4, 0.9, 0.95, 1.05])\n",
        "avgx = np.average(x)\n",
        "\n",
        "print(\"the average of arrayed values is\", avgx)\n",
        "\n",
        "stdx = np.std(x)\n",
        "print(\"the standard deviation of x is\", stdx)"
      ],
      "metadata": {
        "colab": {
          "base_uri": "https://localhost:8080/"
        },
        "id": "YTA15n2nPFjR",
        "outputId": "3854f972-ad61-47bf-b3a9-740dea3e9c8c"
      },
      "execution_count": null,
      "outputs": [
        {
          "output_type": "stream",
          "name": "stdout",
          "text": [
            "the average of arrayed values is 1.1166666666666667\n",
            "the standard deviation of x is 0.17950549357115014\n"
          ]
        }
      ]
    },
    {
      "cell_type": "markdown",
      "source": [
        "$\\delta Q = \\sqrt{(\\delta A)^2 + (\\delta B)^2}$"
      ],
      "metadata": {
        "id": "RFO0Nqm2IehD"
      }
    },
    {
      "cell_type": "markdown",
      "source": [
        "$\\delta v = \\sqrt{(\\frac {\\delta x}{x})^2 + (\\frac {-.5 * \\delta y}{y})^2}$"
      ],
      "metadata": {
        "id": "yvgtmTg0R84D"
      }
    }
  ]
}